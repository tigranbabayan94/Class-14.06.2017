{
 "cells": [
  {
   "cell_type": "code",
   "execution_count": 1,
   "metadata": {
    "collapsed": true
   },
   "outputs": [],
   "source": [
    "import pandas, re"
   ]
  },
  {
   "cell_type": "code",
   "execution_count": 3,
   "metadata": {
    "collapsed": false
   },
   "outputs": [],
   "source": [
    "data = pandas.read_excel(\"craftcans.xlsx\")"
   ]
  },
  {
   "cell_type": "code",
   "execution_count": 4,
   "metadata": {
    "collapsed": false
   },
   "outputs": [
    {
     "data": {
      "text/html": [
       "<div>\n",
       "<table border=\"1\" class=\"dataframe\">\n",
       "  <thead>\n",
       "    <tr style=\"text-align: right;\">\n",
       "      <th></th>\n",
       "      <th>0</th>\n",
       "      <th>1</th>\n",
       "      <th>2</th>\n",
       "      <th>3</th>\n",
       "      <th>4</th>\n",
       "      <th>5</th>\n",
       "      <th>6</th>\n",
       "      <th>7</th>\n",
       "    </tr>\n",
       "  </thead>\n",
       "  <tbody>\n",
       "    <tr>\n",
       "      <th>0</th>\n",
       "      <td>ENTRY</td>\n",
       "      <td>BEER</td>\n",
       "      <td>BREWERY</td>\n",
       "      <td>LOCATION</td>\n",
       "      <td>STYLE</td>\n",
       "      <td>SIZE</td>\n",
       "      <td>ABV</td>\n",
       "      <td>IBUs</td>\n",
       "    </tr>\n",
       "    <tr>\n",
       "      <th>1</th>\n",
       "      <td>2692.</td>\n",
       "      <td>Get Together</td>\n",
       "      <td>NorthGate Brewing</td>\n",
       "      <td>Minneapolis, MN</td>\n",
       "      <td>American IPA</td>\n",
       "      <td>16 oz.</td>\n",
       "      <td>4.5%</td>\n",
       "      <td>50</td>\n",
       "    </tr>\n",
       "    <tr>\n",
       "      <th>2</th>\n",
       "      <td>2691.</td>\n",
       "      <td>Maggie's Leap</td>\n",
       "      <td>NorthGate Brewing</td>\n",
       "      <td>Minneapolis, MN</td>\n",
       "      <td>Milk / Sweet Stout</td>\n",
       "      <td>16 oz.</td>\n",
       "      <td>4.9%</td>\n",
       "      <td>26</td>\n",
       "    </tr>\n",
       "    <tr>\n",
       "      <th>3</th>\n",
       "      <td>2690.</td>\n",
       "      <td>Wall's End</td>\n",
       "      <td>NorthGate Brewing</td>\n",
       "      <td>Minneapolis, MN</td>\n",
       "      <td>English Brown Ale</td>\n",
       "      <td>16 oz.</td>\n",
       "      <td>4.8%</td>\n",
       "      <td>19</td>\n",
       "    </tr>\n",
       "    <tr>\n",
       "      <th>4</th>\n",
       "      <td>2689.</td>\n",
       "      <td>Pumpion</td>\n",
       "      <td>NorthGate Brewing</td>\n",
       "      <td>Minneapolis, MN</td>\n",
       "      <td>Pumpkin Ale</td>\n",
       "      <td>16 oz.</td>\n",
       "      <td>6.0%</td>\n",
       "      <td>38</td>\n",
       "    </tr>\n",
       "  </tbody>\n",
       "</table>\n",
       "</div>"
      ],
      "text/plain": [
       "       0              1                  2                3  \\\n",
       "0  ENTRY           BEER            BREWERY         LOCATION   \n",
       "1  2692.   Get Together  NorthGate Brewing  Minneapolis, MN   \n",
       "2  2691.  Maggie's Leap  NorthGate Brewing  Minneapolis, MN   \n",
       "3  2690.     Wall's End  NorthGate Brewing  Minneapolis, MN   \n",
       "4  2689.        Pumpion  NorthGate Brewing  Minneapolis, MN   \n",
       "\n",
       "                    4       5     6     7  \n",
       "0               STYLE    SIZE   ABV  IBUs  \n",
       "1        American IPA  16 oz.  4.5%    50  \n",
       "2  Milk / Sweet Stout  16 oz.  4.9%    26  \n",
       "3   English Brown Ale  16 oz.  4.8%    19  \n",
       "4         Pumpkin Ale  16 oz.  6.0%    38  "
      ]
     },
     "execution_count": 4,
     "metadata": {},
     "output_type": "execute_result"
    }
   ],
   "source": [
    "data.head()"
   ]
  },
  {
   "cell_type": "code",
   "execution_count": 5,
   "metadata": {
    "collapsed": true
   },
   "outputs": [],
   "source": [
    "data.columns = data.iloc[0]"
   ]
  },
  {
   "cell_type": "code",
   "execution_count": 6,
   "metadata": {
    "collapsed": false
   },
   "outputs": [
    {
     "data": {
      "text/html": [
       "<div>\n",
       "<table border=\"1\" class=\"dataframe\">\n",
       "  <thead>\n",
       "    <tr style=\"text-align: right;\">\n",
       "      <th></th>\n",
       "      <th>ENTRY</th>\n",
       "      <th>BEER</th>\n",
       "      <th>BREWERY</th>\n",
       "      <th>LOCATION</th>\n",
       "      <th>STYLE</th>\n",
       "      <th>SIZE</th>\n",
       "      <th>ABV</th>\n",
       "      <th>IBUs</th>\n",
       "    </tr>\n",
       "  </thead>\n",
       "  <tbody>\n",
       "    <tr>\n",
       "      <th>0</th>\n",
       "      <td>ENTRY</td>\n",
       "      <td>BEER</td>\n",
       "      <td>BREWERY</td>\n",
       "      <td>LOCATION</td>\n",
       "      <td>STYLE</td>\n",
       "      <td>SIZE</td>\n",
       "      <td>ABV</td>\n",
       "      <td>IBUs</td>\n",
       "    </tr>\n",
       "    <tr>\n",
       "      <th>1</th>\n",
       "      <td>2692.</td>\n",
       "      <td>Get Together</td>\n",
       "      <td>NorthGate Brewing</td>\n",
       "      <td>Minneapolis, MN</td>\n",
       "      <td>American IPA</td>\n",
       "      <td>16 oz.</td>\n",
       "      <td>4.5%</td>\n",
       "      <td>50</td>\n",
       "    </tr>\n",
       "    <tr>\n",
       "      <th>2</th>\n",
       "      <td>2691.</td>\n",
       "      <td>Maggie's Leap</td>\n",
       "      <td>NorthGate Brewing</td>\n",
       "      <td>Minneapolis, MN</td>\n",
       "      <td>Milk / Sweet Stout</td>\n",
       "      <td>16 oz.</td>\n",
       "      <td>4.9%</td>\n",
       "      <td>26</td>\n",
       "    </tr>\n",
       "    <tr>\n",
       "      <th>3</th>\n",
       "      <td>2690.</td>\n",
       "      <td>Wall's End</td>\n",
       "      <td>NorthGate Brewing</td>\n",
       "      <td>Minneapolis, MN</td>\n",
       "      <td>English Brown Ale</td>\n",
       "      <td>16 oz.</td>\n",
       "      <td>4.8%</td>\n",
       "      <td>19</td>\n",
       "    </tr>\n",
       "    <tr>\n",
       "      <th>4</th>\n",
       "      <td>2689.</td>\n",
       "      <td>Pumpion</td>\n",
       "      <td>NorthGate Brewing</td>\n",
       "      <td>Minneapolis, MN</td>\n",
       "      <td>Pumpkin Ale</td>\n",
       "      <td>16 oz.</td>\n",
       "      <td>6.0%</td>\n",
       "      <td>38</td>\n",
       "    </tr>\n",
       "  </tbody>\n",
       "</table>\n",
       "</div>"
      ],
      "text/plain": [
       "0  ENTRY           BEER            BREWERY         LOCATION  \\\n",
       "0  ENTRY           BEER            BREWERY         LOCATION   \n",
       "1  2692.   Get Together  NorthGate Brewing  Minneapolis, MN   \n",
       "2  2691.  Maggie's Leap  NorthGate Brewing  Minneapolis, MN   \n",
       "3  2690.     Wall's End  NorthGate Brewing  Minneapolis, MN   \n",
       "4  2689.        Pumpion  NorthGate Brewing  Minneapolis, MN   \n",
       "\n",
       "0               STYLE    SIZE   ABV  IBUs  \n",
       "0               STYLE    SIZE   ABV  IBUs  \n",
       "1        American IPA  16 oz.  4.5%    50  \n",
       "2  Milk / Sweet Stout  16 oz.  4.9%    26  \n",
       "3   English Brown Ale  16 oz.  4.8%    19  \n",
       "4         Pumpkin Ale  16 oz.  6.0%    38  "
      ]
     },
     "execution_count": 6,
     "metadata": {},
     "output_type": "execute_result"
    }
   ],
   "source": [
    "data.head()"
   ]
  },
  {
   "cell_type": "code",
   "execution_count": 7,
   "metadata": {
    "collapsed": true
   },
   "outputs": [],
   "source": [
    "data = data.drop(0,axis=0)"
   ]
  },
  {
   "cell_type": "code",
   "execution_count": 8,
   "metadata": {
    "collapsed": false
   },
   "outputs": [
    {
     "data": {
      "text/html": [
       "<div>\n",
       "<table border=\"1\" class=\"dataframe\">\n",
       "  <thead>\n",
       "    <tr style=\"text-align: right;\">\n",
       "      <th></th>\n",
       "      <th>ENTRY</th>\n",
       "      <th>BEER</th>\n",
       "      <th>BREWERY</th>\n",
       "      <th>LOCATION</th>\n",
       "      <th>STYLE</th>\n",
       "      <th>SIZE</th>\n",
       "      <th>ABV</th>\n",
       "      <th>IBUs</th>\n",
       "    </tr>\n",
       "  </thead>\n",
       "  <tbody>\n",
       "    <tr>\n",
       "      <th>1</th>\n",
       "      <td>2692.</td>\n",
       "      <td>Get Together</td>\n",
       "      <td>NorthGate Brewing</td>\n",
       "      <td>Minneapolis, MN</td>\n",
       "      <td>American IPA</td>\n",
       "      <td>16 oz.</td>\n",
       "      <td>4.5%</td>\n",
       "      <td>50</td>\n",
       "    </tr>\n",
       "    <tr>\n",
       "      <th>2</th>\n",
       "      <td>2691.</td>\n",
       "      <td>Maggie's Leap</td>\n",
       "      <td>NorthGate Brewing</td>\n",
       "      <td>Minneapolis, MN</td>\n",
       "      <td>Milk / Sweet Stout</td>\n",
       "      <td>16 oz.</td>\n",
       "      <td>4.9%</td>\n",
       "      <td>26</td>\n",
       "    </tr>\n",
       "    <tr>\n",
       "      <th>3</th>\n",
       "      <td>2690.</td>\n",
       "      <td>Wall's End</td>\n",
       "      <td>NorthGate Brewing</td>\n",
       "      <td>Minneapolis, MN</td>\n",
       "      <td>English Brown Ale</td>\n",
       "      <td>16 oz.</td>\n",
       "      <td>4.8%</td>\n",
       "      <td>19</td>\n",
       "    </tr>\n",
       "    <tr>\n",
       "      <th>4</th>\n",
       "      <td>2689.</td>\n",
       "      <td>Pumpion</td>\n",
       "      <td>NorthGate Brewing</td>\n",
       "      <td>Minneapolis, MN</td>\n",
       "      <td>Pumpkin Ale</td>\n",
       "      <td>16 oz.</td>\n",
       "      <td>6.0%</td>\n",
       "      <td>38</td>\n",
       "    </tr>\n",
       "    <tr>\n",
       "      <th>5</th>\n",
       "      <td>2688.</td>\n",
       "      <td>Stronghold</td>\n",
       "      <td>NorthGate Brewing</td>\n",
       "      <td>Minneapolis, MN</td>\n",
       "      <td>American Porter</td>\n",
       "      <td>16 oz.</td>\n",
       "      <td>6.0%</td>\n",
       "      <td>25</td>\n",
       "    </tr>\n",
       "  </tbody>\n",
       "</table>\n",
       "</div>"
      ],
      "text/plain": [
       "0  ENTRY           BEER            BREWERY         LOCATION  \\\n",
       "1  2692.   Get Together  NorthGate Brewing  Minneapolis, MN   \n",
       "2  2691.  Maggie's Leap  NorthGate Brewing  Minneapolis, MN   \n",
       "3  2690.     Wall's End  NorthGate Brewing  Minneapolis, MN   \n",
       "4  2689.        Pumpion  NorthGate Brewing  Minneapolis, MN   \n",
       "5  2688.     Stronghold  NorthGate Brewing  Minneapolis, MN   \n",
       "\n",
       "0               STYLE    SIZE   ABV IBUs  \n",
       "1        American IPA  16 oz.  4.5%   50  \n",
       "2  Milk / Sweet Stout  16 oz.  4.9%   26  \n",
       "3   English Brown Ale  16 oz.  4.8%   19  \n",
       "4         Pumpkin Ale  16 oz.  6.0%   38  \n",
       "5     American Porter  16 oz.  6.0%   25  "
      ]
     },
     "execution_count": 8,
     "metadata": {},
     "output_type": "execute_result"
    }
   ],
   "source": [
    "data.head()"
   ]
  },
  {
   "cell_type": "code",
   "execution_count": 9,
   "metadata": {
    "collapsed": true
   },
   "outputs": [],
   "source": [
    "data.index = data['ENTRY']"
   ]
  },
  {
   "cell_type": "code",
   "execution_count": 10,
   "metadata": {
    "collapsed": false
   },
   "outputs": [
    {
     "data": {
      "text/html": [
       "<div>\n",
       "<table border=\"1\" class=\"dataframe\">\n",
       "  <thead>\n",
       "    <tr style=\"text-align: right;\">\n",
       "      <th></th>\n",
       "      <th>ENTRY</th>\n",
       "      <th>BEER</th>\n",
       "      <th>BREWERY</th>\n",
       "      <th>LOCATION</th>\n",
       "      <th>STYLE</th>\n",
       "      <th>SIZE</th>\n",
       "      <th>ABV</th>\n",
       "      <th>IBUs</th>\n",
       "    </tr>\n",
       "    <tr>\n",
       "      <th>ENTRY</th>\n",
       "      <th></th>\n",
       "      <th></th>\n",
       "      <th></th>\n",
       "      <th></th>\n",
       "      <th></th>\n",
       "      <th></th>\n",
       "      <th></th>\n",
       "      <th></th>\n",
       "    </tr>\n",
       "  </thead>\n",
       "  <tbody>\n",
       "    <tr>\n",
       "      <th>2692.</th>\n",
       "      <td>2692.</td>\n",
       "      <td>Get Together</td>\n",
       "      <td>NorthGate Brewing</td>\n",
       "      <td>Minneapolis, MN</td>\n",
       "      <td>American IPA</td>\n",
       "      <td>16 oz.</td>\n",
       "      <td>4.5%</td>\n",
       "      <td>50</td>\n",
       "    </tr>\n",
       "    <tr>\n",
       "      <th>2691.</th>\n",
       "      <td>2691.</td>\n",
       "      <td>Maggie's Leap</td>\n",
       "      <td>NorthGate Brewing</td>\n",
       "      <td>Minneapolis, MN</td>\n",
       "      <td>Milk / Sweet Stout</td>\n",
       "      <td>16 oz.</td>\n",
       "      <td>4.9%</td>\n",
       "      <td>26</td>\n",
       "    </tr>\n",
       "    <tr>\n",
       "      <th>2690.</th>\n",
       "      <td>2690.</td>\n",
       "      <td>Wall's End</td>\n",
       "      <td>NorthGate Brewing</td>\n",
       "      <td>Minneapolis, MN</td>\n",
       "      <td>English Brown Ale</td>\n",
       "      <td>16 oz.</td>\n",
       "      <td>4.8%</td>\n",
       "      <td>19</td>\n",
       "    </tr>\n",
       "    <tr>\n",
       "      <th>2689.</th>\n",
       "      <td>2689.</td>\n",
       "      <td>Pumpion</td>\n",
       "      <td>NorthGate Brewing</td>\n",
       "      <td>Minneapolis, MN</td>\n",
       "      <td>Pumpkin Ale</td>\n",
       "      <td>16 oz.</td>\n",
       "      <td>6.0%</td>\n",
       "      <td>38</td>\n",
       "    </tr>\n",
       "    <tr>\n",
       "      <th>2688.</th>\n",
       "      <td>2688.</td>\n",
       "      <td>Stronghold</td>\n",
       "      <td>NorthGate Brewing</td>\n",
       "      <td>Minneapolis, MN</td>\n",
       "      <td>American Porter</td>\n",
       "      <td>16 oz.</td>\n",
       "      <td>6.0%</td>\n",
       "      <td>25</td>\n",
       "    </tr>\n",
       "  </tbody>\n",
       "</table>\n",
       "</div>"
      ],
      "text/plain": [
       "0      ENTRY           BEER            BREWERY         LOCATION  \\\n",
       "ENTRY                                                             \n",
       "2692.  2692.   Get Together  NorthGate Brewing  Minneapolis, MN   \n",
       "2691.  2691.  Maggie's Leap  NorthGate Brewing  Minneapolis, MN   \n",
       "2690.  2690.     Wall's End  NorthGate Brewing  Minneapolis, MN   \n",
       "2689.  2689.        Pumpion  NorthGate Brewing  Minneapolis, MN   \n",
       "2688.  2688.     Stronghold  NorthGate Brewing  Minneapolis, MN   \n",
       "\n",
       "0                   STYLE    SIZE   ABV IBUs  \n",
       "ENTRY                                         \n",
       "2692.        American IPA  16 oz.  4.5%   50  \n",
       "2691.  Milk / Sweet Stout  16 oz.  4.9%   26  \n",
       "2690.   English Brown Ale  16 oz.  4.8%   19  \n",
       "2689.         Pumpkin Ale  16 oz.  6.0%   38  \n",
       "2688.     American Porter  16 oz.  6.0%   25  "
      ]
     },
     "execution_count": 10,
     "metadata": {},
     "output_type": "execute_result"
    }
   ],
   "source": [
    "data.head()"
   ]
  },
  {
   "cell_type": "code",
   "execution_count": 11,
   "metadata": {
    "collapsed": true
   },
   "outputs": [],
   "source": [
    "data = data.drop('ENTRY', axis=1)"
   ]
  },
  {
   "cell_type": "code",
   "execution_count": 12,
   "metadata": {
    "collapsed": false
   },
   "outputs": [
    {
     "data": {
      "text/html": [
       "<div>\n",
       "<table border=\"1\" class=\"dataframe\">\n",
       "  <thead>\n",
       "    <tr style=\"text-align: right;\">\n",
       "      <th></th>\n",
       "      <th>BEER</th>\n",
       "      <th>BREWERY</th>\n",
       "      <th>LOCATION</th>\n",
       "      <th>STYLE</th>\n",
       "      <th>SIZE</th>\n",
       "      <th>ABV</th>\n",
       "      <th>IBUs</th>\n",
       "    </tr>\n",
       "    <tr>\n",
       "      <th>ENTRY</th>\n",
       "      <th></th>\n",
       "      <th></th>\n",
       "      <th></th>\n",
       "      <th></th>\n",
       "      <th></th>\n",
       "      <th></th>\n",
       "      <th></th>\n",
       "    </tr>\n",
       "  </thead>\n",
       "  <tbody>\n",
       "    <tr>\n",
       "      <th>2692.</th>\n",
       "      <td>Get Together</td>\n",
       "      <td>NorthGate Brewing</td>\n",
       "      <td>Minneapolis, MN</td>\n",
       "      <td>American IPA</td>\n",
       "      <td>16 oz.</td>\n",
       "      <td>4.5%</td>\n",
       "      <td>50</td>\n",
       "    </tr>\n",
       "    <tr>\n",
       "      <th>2691.</th>\n",
       "      <td>Maggie's Leap</td>\n",
       "      <td>NorthGate Brewing</td>\n",
       "      <td>Minneapolis, MN</td>\n",
       "      <td>Milk / Sweet Stout</td>\n",
       "      <td>16 oz.</td>\n",
       "      <td>4.9%</td>\n",
       "      <td>26</td>\n",
       "    </tr>\n",
       "    <tr>\n",
       "      <th>2690.</th>\n",
       "      <td>Wall's End</td>\n",
       "      <td>NorthGate Brewing</td>\n",
       "      <td>Minneapolis, MN</td>\n",
       "      <td>English Brown Ale</td>\n",
       "      <td>16 oz.</td>\n",
       "      <td>4.8%</td>\n",
       "      <td>19</td>\n",
       "    </tr>\n",
       "    <tr>\n",
       "      <th>2689.</th>\n",
       "      <td>Pumpion</td>\n",
       "      <td>NorthGate Brewing</td>\n",
       "      <td>Minneapolis, MN</td>\n",
       "      <td>Pumpkin Ale</td>\n",
       "      <td>16 oz.</td>\n",
       "      <td>6.0%</td>\n",
       "      <td>38</td>\n",
       "    </tr>\n",
       "    <tr>\n",
       "      <th>2688.</th>\n",
       "      <td>Stronghold</td>\n",
       "      <td>NorthGate Brewing</td>\n",
       "      <td>Minneapolis, MN</td>\n",
       "      <td>American Porter</td>\n",
       "      <td>16 oz.</td>\n",
       "      <td>6.0%</td>\n",
       "      <td>25</td>\n",
       "    </tr>\n",
       "  </tbody>\n",
       "</table>\n",
       "</div>"
      ],
      "text/plain": [
       "0               BEER            BREWERY         LOCATION               STYLE  \\\n",
       "ENTRY                                                                          \n",
       "2692.   Get Together  NorthGate Brewing  Minneapolis, MN        American IPA   \n",
       "2691.  Maggie's Leap  NorthGate Brewing  Minneapolis, MN  Milk / Sweet Stout   \n",
       "2690.     Wall's End  NorthGate Brewing  Minneapolis, MN   English Brown Ale   \n",
       "2689.        Pumpion  NorthGate Brewing  Minneapolis, MN         Pumpkin Ale   \n",
       "2688.     Stronghold  NorthGate Brewing  Minneapolis, MN     American Porter   \n",
       "\n",
       "0        SIZE   ABV IBUs  \n",
       "ENTRY                     \n",
       "2692.  16 oz.  4.5%   50  \n",
       "2691.  16 oz.  4.9%   26  \n",
       "2690.  16 oz.  4.8%   19  \n",
       "2689.  16 oz.  6.0%   38  \n",
       "2688.  16 oz.  6.0%   25  "
      ]
     },
     "execution_count": 12,
     "metadata": {},
     "output_type": "execute_result"
    }
   ],
   "source": [
    "data.head()"
   ]
  },
  {
   "cell_type": "code",
   "execution_count": 13,
   "metadata": {
    "collapsed": false
   },
   "outputs": [
    {
     "name": "stdout",
     "output_type": "stream",
     "text": [
      "<class 'pandas.core.frame.DataFrame'>\n",
      "Index: 2410 entries, 2692. to 1.\n",
      "Data columns (total 7 columns):\n",
      "BEER        2410 non-null object\n",
      "BREWERY     2410 non-null object\n",
      "LOCATION    2410 non-null object\n",
      "STYLE       2405 non-null object\n",
      "SIZE        2410 non-null object\n",
      "ABV         2410 non-null object\n",
      "IBUs        1405 non-null object\n",
      "dtypes: object(7)\n",
      "memory usage: 150.6+ KB\n"
     ]
    }
   ],
   "source": [
    "data.info()"
   ]
  },
  {
   "cell_type": "code",
   "execution_count": 14,
   "metadata": {
    "collapsed": false
   },
   "outputs": [
    {
     "data": {
      "text/plain": [
       "ENTRY\n",
       "2692.    16 oz.\n",
       "2691.    16 oz.\n",
       "2690.    16 oz.\n",
       "2689.    16 oz.\n",
       "2688.    16 oz.\n",
       "Name: SIZE, dtype: object"
      ]
     },
     "execution_count": 14,
     "metadata": {},
     "output_type": "execute_result"
    }
   ],
   "source": [
    "data['SIZE'].head()"
   ]
  },
  {
   "cell_type": "code",
   "execution_count": 15,
   "metadata": {
    "collapsed": true
   },
   "outputs": [],
   "source": [
    "size_list = data['SIZE'].tolist()"
   ]
  },
  {
   "cell_type": "code",
   "execution_count": 16,
   "metadata": {
    "collapsed": false
   },
   "outputs": [
    {
     "name": "stdout",
     "output_type": "stream",
     "text": [
      "set([u'19.2 oz.', u'12 OZ.', u'12 & 16 oz.', u'19.2', u'12 oz', u'24 oz.', u'12 oz.', u'32 oz.', u'24 oz. \"Silo Can\"', u'16 oz', u'12 oz. Slimline', u'16.9 oz.', u'16 oz. Alumi-Tek\\xae', u'12 ounce', u'16 oz.', u'8.4 oz.'])\n"
     ]
    }
   ],
   "source": [
    "print(set(size_list))"
   ]
  },
  {
   "cell_type": "code",
   "execution_count": 25,
   "metadata": {
    "collapsed": false
   },
   "outputs": [],
   "source": [
    "correct_size = []\n",
    "for i in range(len(size_list)):\n",
    "    output = re.findall('(^\\d+\\S*)?\\s+.*',size_list[i])\n",
    "    correct_size.append(output)"
   ]
  },
  {
   "cell_type": "code",
   "execution_count": 26,
   "metadata": {
    "collapsed": false
   },
   "outputs": [
    {
     "name": "stdout",
     "output_type": "stream",
     "text": [
      "[[u'16'], [u'16'], [u'16'], [u'16'], [u'16'], [u'16'], [u'16'], [u'16'], [u'16'], [u'16'], [u'16'], [u'16'], [u'16'], [u'16'], [u'16'], [u'16'], [u'16'], [u'16'], [u'16'], [u'16'], [u'12'], [u'16'], [u'12'], [u'12'], [u'16'], [u'16'], [u'16'], [u'16'], [u'16'], [u'16'], [u'12'], [u'12'], [u'12'], [u'12'], [u'12'], [u'12'], [u'12'], [u'16'], [u'16'], [u'16'], [u'12'], [u'12'], [u'12'], [u'12'], [u'12'], [u'12'], [u'12'], [u'12'], [u'12'], [u'16'], [u'16'], [u'16'], [u'16'], [u'16'], [u'16'], [u'12'], [u'12'], [u'12'], [u'12'], [u'12'], [u'12'], [u'12'], [u'12'], [u'12'], [u'12'], [u'16'], [u'16'], [u'16'], [u'16'], [u'16'], [u'16'], [u'16'], [u'16'], [u'16'], [u'16'], [u'16'], [u'16'], [u'16'], [u'16'], [u'16'], [u'12'], [u'16'], [u'16'], [u'24'], [u'16'], [u'16'], [u'16'], [u'16'], [u'12'], [u'16'], [u'12'], [u'16'], [u'16'], [u'12'], [u'12'], [u'16'], [u'12'], [u'12'], [u'12'], [u'12'], [u'12'], [u'12'], [u'16'], [u'12'], [u'16'], [u'16'], [u'16'], [u'16'], [u'16'], [u'16'], [u'12'], [u'12'], [u'12'], [u'12'], [u'16.9'], [u'12'], [u'12'], [u'12'], [u'12'], [u'12'], [u'12'], [u'12'], [u'12'], [u'12'], [u'19.2'], [u'19.2'], [u'19.2'], [u'19.2'], [u'19.2'], [u'12'], [u'16'], [u'12'], [u'16'], [u'12'], [u'16'], [u'16'], [u'12'], [u'12'], [u'12'], [u'12'], [u'12'], [u'16'], [u'12'], [u'12'], [u'12'], [u'12'], [u'16'], [u'16'], [u'16'], [u'16'], [u'16'], [u'12'], [u'24'], [u'24'], [u'24'], [u'24'], [u'24'], [u'24'], [u'24'], [u'24'], [u'24'], [u'24'], [u'12'], [u'12'], [u'12'], [u'12'], [u'12'], [u'12'], [u'12'], [u'12'], [u'12'], [u'12'], [u'12'], [u'16'], [u'16'], [u'16'], [u'16'], [u'16'], [u'16'], [u'16'], [u'16'], [u'16'], [u'12'], [u'12'], [u'12'], [u'16'], [u'16'], [u'16'], [u'12'], [u'16'], [u'16'], [u'16'], [u'16'], [u'12'], [u'16'], [u'12'], [u'12'], [u'12'], [u'12'], [u'12'], [u'12'], [u'12'], [u'12'], [u'12'], [u'12'], [u'12'], [u'16'], [u'16'], [u'16'], [u'12'], [u'12'], [u'12'], [u'12'], [u'16'], [u'12'], [u'12'], [u'16'], [u'12'], [u'12'], [u'12'], [u'16'], [u'16'], [u'16'], [u'16'], [u'16'], [u'16'], [u'12'], [u'12'], [u'16'], [u'16'], [u'16'], [u'12'], [u'16'], [u'16'], [u'12'], [u'12'], [u'12'], [u'12'], [u'12'], [u'16'], [u'12'], [u'16'], [u'16'], [u'12'], [u'16'], [u'16'], [u'12'], [u'32'], [u'32'], [u'12'], [u'12'], [u'12'], [u'12'], [u'12'], [u'12'], [u'12'], [u'16'], [u'16'], [u'16'], [u'16'], [u'16'], [u'12'], [u'12'], [u'12'], [u'12'], [u'12'], [u'12'], [u'12'], [u'12'], [u'12'], [u'12'], [u'16'], [u'12'], [u'16'], [u'16'], [u'12'], [u'12'], [u'12'], [u'12'], [u'12'], [u'16'], [u'12'], [u'12'], [u'12'], [u'12'], [u'12'], [u'12'], [u'12'], [u'12'], [u'16'], [u'16'], [u'16'], [u'16'], [u'16'], [u'16'], [u'16'], [u'16'], [u'16'], [u'16'], [u'16'], [u'16'], [u'16'], [u'12'], [u'12'], [u'12'], [u'12'], [u'16'], [u'16'], [u'16'], [u'16'], [u'16'], [u'12'], [u'12'], [u'16'], [u'12'], [u'12'], [u'16'], [u'12'], [u'12'], [u'12'], [u'12'], [u'16'], [u'12'], [u'12'], [u'16'], [u'12'], [u'16'], [u'24'], [u'12'], [u'16'], [u'12'], [u'12'], [u'12'], [u'12'], [u'16'], [u'16'], [u'12'], [u'12'], [u'12'], [u'12'], [u'12'], [u'12'], [u'16'], [u'16'], [u'12'], [u'12'], [u'12'], [u'12'], [u'12'], [u'12'], [u'12'], [u'16'], [u'12'], [u'12'], [u'12'], [u'12'], [u'12'], [u'12'], [u'16'], [u'12'], [u'12'], [u'12'], [u'16'], [u'12'], [u'12'], [u'12'], [u'12'], [u'12'], [u'12'], [u'12'], [u'12'], [u'12'], [u'12'], [u'12'], [u'12'], [u'12'], [u'12'], [u'12'], [u'12'], [u'16'], [u'16'], [u'12'], [u'12'], [u'12'], [u'16'], [u'12'], [u'12'], [u'12'], [u'12'], [u'12'], [u'12'], [u'12'], [u'12'], [u'12'], [u'12'], [u'12'], [u'12'], [u'16'], [u'12'], [u'12'], [u'12'], [u'12'], [u'12'], [u'16'], [u'12'], [u'12'], [u'16'], [u'12'], [u'16'], [u'12'], [u'12'], [u'24'], [u'12'], [u'12'], [u'12'], [u'12'], [u'16'], [u'12'], [u'12'], [u'16'], [u'12'], [u'16'], [u'12'], [u'12'], [u'12'], [u'12'], [u'12'], [u'12'], [u'12'], [u'12'], [u'12'], [u'12'], [u'16'], [u'16'], [u'12'], [u'16'], [u'12'], [u'16'], [u'12'], [u'16'], [u'16'], [u'12'], [u'16'], [u'16'], [u'16'], [u'16'], [u'16'], [u'12'], [u'12'], [u'12'], [u'12'], [u'12'], [u'12'], [u'12'], [u'12'], [u'12'], [u'12'], [u'12'], [u'12'], [u'12'], [u'12'], [u'12'], [u'16'], [u'16'], [u'16'], [u'16'], [u'16'], [u'16'], [u'16'], [u'16'], [u'16'], [u'16'], [u'16'], [u'16'], [u'12'], [u'12'], [u'16'], [u'12'], [u'12'], [u'12'], [u'16'], [u'12'], [u'16'], [u'12'], [u'12'], [u'16'], [u'16'], [u'16'], [u'12'], [u'16'], [u'12'], [u'12'], [u'12'], [u'16'], [u'16'], [u'16'], [u'16'], [u'12'], [u'12'], [u'12'], [u'19.2'], [u'12'], [u'12'], [u'12'], [u'12'], [u'19.2'], [u'12'], [u'19.2'], [u'12'], [u'12'], [u'12'], [u'12'], [u'12'], [u'12'], [u'12'], [u'12'], [u'12'], [u'12'], [u'12'], [u'16'], [u'12'], [u'12'], [u'16'], [u'16'], [u'16'], [u'16'], [u'16'], [u'12'], [u'16'], [u'12'], [u'12'], [u'12'], [u'12'], [u'12'], [u'12'], [u'12'], [u'12'], [u'12'], [u'16'], [u'16'], [u'16'], [u'16'], [u'16'], [u'16'], [u'16'], [u'16'], [u'16'], [u'16'], [u'12'], [u'12'], [u'12'], [u'12'], [u'12'], [u'12'], [u'12'], [u'12'], [u'16'], [u'12'], [u'12'], [u'16'], [u'12'], [u'12'], [u'12'], [u'12'], [u'16'], [u'12'], [u'12'], [u'12'], [u'12'], [u'16'], [u'12'], [u'12'], [u'12'], [u'12'], [u'16'], [u'12'], [u'12'], [u'16'], [u'12'], [u'12'], [u'12'], [u'12'], [u'12'], [u'12'], [u'16'], [u'12'], [u'16'], [u'16'], [u'24'], [u'12'], [u'16'], [u'16'], [u'16'], [u'16'], [u'16'], [u'16'], [u'16'], [u'16'], [u'16'], [u'16'], [u'12'], [u'12'], [u'12'], [u'12'], [u'16'], [u'16'], [u'16'], [u'12'], [u'12'], [u'12'], [u'16'], [u'16'], [u'12'], [u'12'], [u'12'], [u'16'], [u'16'], [u'16'], [u'12'], [u'12'], [u'12'], [u'24'], [u'12'], [u'12'], [u'16'], [u'12'], [u'16'], [u'12'], [u'12'], [u'12'], [u'12'], [u'12'], [u'16'], [u'12'], [u'12'], [u'12'], [u'12'], [u'12'], [u'12'], [u'12'], [u'12'], [u'16'], [u'16'], [u'16'], [u'12'], [u'12'], [u'12'], [u'12'], [u'12'], [u'12'], [u'16'], [u'12'], [u'12'], [u'12'], [u'16'], [u'16'], [u'12'], [u'16'], [u'16'], [u'16'], [u'16'], [u'12'], [u'12'], [u'12'], [u'12'], [u'12'], [u'12'], [u'12'], [u'12'], [u'12'], [u'16'], [u'12'], [u'12'], [u'12'], [u'16'], [u'16'], [u'16'], [u'16'], [u'12'], [u'16'], [u'16'], [u'12'], [u'16'], [u'12'], [u'12'], [u'16'], [u'16'], [u'16'], [u'12'], [u'16'], [u'16'], [u'16'], [u'12'], [u'12'], [u'16'], [u'12'], [u'12'], [u'12'], [u'16'], [u'16'], [u'12'], [u'16'], [u'16'], [u'16'], [u'16'], [u'16'], [u'16'], [u'12'], [u'16'], [u'12'], [u'12'], [u'12'], [u'12'], [u'12'], [u'12'], [u'12'], [u'16'], [u'16'], [u'12'], [u'12'], [u'16'], [u'12'], [u'12'], [u'16'], [u'16'], [u'16'], [u'16'], [u'16'], [u'16'], [u'12'], [u'12'], [u'12'], [u'12'], [u'12'], [u'16'], [u'16'], [u'12'], [u'12'], [u'12'], [u'12'], [u'12'], [u'12'], [u'12'], [u'12'], [u'12'], [u'12'], [u'16'], [u'16'], [u'16'], [u'12'], [u'12'], [u'12'], [u'12'], [u'12'], [u'12'], [u'12'], [u'12'], [u'12'], [u'12'], [u'16'], [u'16'], [u'16'], [u'12'], [u'12'], [u'16'], [u'16'], [u'12'], [u'12'], [u'12'], [u'12'], [u'16'], [u'12'], [u'12'], [u'12'], [u'12'], [u'12'], [u'12'], [u'12'], [u'12'], [u'12'], [u'16'], [u'16'], [u'16'], [u'16'], [u'16'], [u'12'], [u'12'], [u'12'], [u'12'], [u'12'], [u'16'], [], [u'16'], [u'16'], [u'12'], [u'12'], [u'12'], [u'12'], [u'12'], [u'12'], [u'12'], [u'12'], [u'12'], [u'12'], [u'12'], [u'12'], [u'12'], [u'12'], [u'12'], [u'16'], [u'16'], [u'16'], [u'12'], [u'12'], [u'12'], [u'16'], [u'19.2'], [u'12'], [u'12'], [u'12'], [u'12'], [u'12'], [u'12'], [u'12'], [u'12'], [u'12'], [u'12'], [u'12'], [u'12'], [u'12'], [u'12'], [u'12'], [u'12'], [u'12'], [u'12'], [u'12'], [u'12'], [u'12'], [u'12'], [u'12'], [u'16'], [u'12'], [u'12'], [u'12'], [u'12'], [u'12'], [u'12'], [u'16'], [u'12'], [u'12'], [u'16'], [u'12'], [u'12'], [u'12'], [u'16'], [u'12'], [u'16'], [u'16'], [u'12'], [u'12'], [u'16'], [u'16'], [u'12'], [u'12'], [u'16'], [u'12'], [u'12'], [u'12'], [u'12'], [u'12'], [u'12'], [u'32'], [u'16'], [u'12'], [u'12'], [u'12'], [u'16'], [u'12'], [u'16'], [u'16'], [u'16'], [u'16'], [u'16'], [u'16'], [u'16'], [u'12'], [u'12'], [u'12'], [u'12'], [u'16'], [u'16'], [u'12'], [u'16'], [u'12'], [u'12'], [u'16'], [u'16'], [u'12'], [u'12'], [u'16'], [u'16'], [u'16'], [u'16'], [u'12'], [u'12'], [u'12'], [u'12'], [u'12'], [u'12'], [u'12'], [u'12'], [u'12'], [u'12'], [u'16'], [u'16'], [u'12'], [u'12'], [u'12'], [u'16'], [u'16'], [u'12'], [u'16'], [u'12'], [u'12'], [u'12'], [u'16'], [u'12'], [u'16'], [u'12'], [u'12'], [u'16'], [u'12'], [u'12'], [u'12'], [u'12'], [u'16'], [u'12'], [u'12'], [u'12'], [u'16'], [u'12'], [u'12'], [u'16'], [u'12'], [u'12'], [u'12'], [u'12'], [u'12'], [u'12'], [u'16'], [u'16'], [u'12'], [u'12'], [u'12'], [u'12'], [u'12'], [u'12'], [u'12'], [u'16'], [u'12'], [u'12'], [u'16'], [u'16'], [u'16'], [u'16'], [u'16'], [u'16'], [u'16'], [u'16'], [u'12'], [u'12'], [u'12'], [u'12'], [u'12'], [u'12'], [u'12'], [u'12'], [u'12'], [u'12'], [u'12'], [u'12'], [u'12'], [u'12'], [u'12'], [u'12'], [u'12'], [u'12'], [u'12'], [u'16'], [u'12'], [u'12'], [u'12'], [u'12'], [u'12'], [u'12'], [u'12'], [u'12'], [u'12'], [u'12'], [u'12'], [u'12'], [u'16'], [u'16'], [u'16'], [u'12'], [u'12'], [u'12'], [u'12'], [u'12'], [u'16'], [u'12'], [u'16'], [u'12'], [u'16'], [u'16'], [u'12'], [u'16'], [u'16'], [u'16'], [u'16'], [u'12'], [u'12'], [u'12'], [u'16'], [u'16'], [u'16'], [u'16'], [u'16'], [u'16'], [u'16'], [u'12'], [u'12'], [u'12'], [u'12'], [u'12'], [u'12'], [u'16'], [u'12'], [u'16'], [u'12'], [u'12'], [u'12'], [u'16'], [u'16'], [u'16'], [u'12'], [u'12'], [u'12'], [u'12'], [u'12'], [u'16'], [u'16'], [u'12'], [u'12'], [u'12'], [u'16'], [u'12'], [u'12'], [u'12'], [u'12'], [u'12'], [u'12'], [u'12'], [u'12'], [u'12'], [u'12'], [u'16'], [u'12'], [u'12'], [u'12'], [u'12'], [u'16'], [u'12'], [u'12'], [u'16'], [u'16'], [u'16'], [u'12'], [u'12'], [u'12'], [u'12'], [u'16'], [u'12'], [u'16'], [u'12'], [u'12'], [u'12'], [u'12'], [u'16'], [u'16'], [u'16'], [u'16'], [u'12'], [u'12'], [u'16'], [u'16'], [u'12'], [u'12'], [u'16'], [u'16'], [u'12'], [u'12'], [u'12'], [u'16'], [u'16'], [u'12'], [u'12'], [u'12'], [u'12'], [u'12'], [u'12'], [u'12'], [u'12'], [u'12'], [u'16'], [u'12'], [u'12'], [u'12'], [u'12'], [u'12'], [u'12'], [u'12'], [u'12'], [u'16'], [u'12'], [u'16'], [u'16'], [u'16'], [u'16'], [u'12'], [u'12'], [u'16'], [u'16'], [u'16'], [u'16'], [u'16'], [u'12'], [u'12'], [u'12'], [u'12'], [u'12'], [u'12'], [u'12'], [u'16'], [u'16'], [u'16'], [u'16'], [u'12'], [u'12'], [u'12'], [u'12'], [u'16'], [u'12'], [u'12'], [u'12'], [u'12'], [u'12'], [u'12'], [u'12'], [u'12'], [u'12'], [u'12'], [u'16'], [u'12'], [u'12'], [u'16'], [u'16'], [u'16'], [u'16'], [u'16'], [u'16'], [u'16'], [u'12'], [u'16'], [u'16'], [u'16'], [u'12'], [u'12'], [u'16'], [u'12'], [u'12'], [u'12'], [u'12'], [u'16'], [u'16'], [u'12'], [u'16'], [u'16'], [u'12'], [u'12'], [u'12'], [u'16'], [u'12'], [u'16'], [u'16'], [u'12'], [u'12'], [u'12'], [u'32'], [u'32'], [u'12'], [u'16'], [u'12'], [u'16'], [u'16'], [u'16'], [u'16'], [u'16'], [u'12'], [u'16'], [u'16'], [u'12'], [u'12'], [u'16'], [u'12'], [u'16'], [u'16'], [u'12'], [u'12'], [u'12'], [u'12'], [u'12'], [u'12'], [u'12'], [u'12'], [u'16'], [u'16'], [u'12'], [u'12'], [u'12'], [u'12'], [u'12'], [u'12'], [u'12'], [u'16'], [u'16'], [u'12'], [u'16'], [u'12'], [u'12'], [u'12'], [u'16'], [u'16'], [u'12'], [u'12'], [u'12'], [u'16'], [u'12'], [u'12'], [u'12'], [u'12'], [u'16'], [u'16'], [u'16'], [u'12'], [u'12'], [u'16'], [u'16'], [u'12'], [u'12'], [u'12'], [u'16'], [u'12'], [u'12'], [u'12'], [u'12'], [u'16'], [u'16'], [u'16'], [u'16'], [u'16'], [u'12'], [u'12'], [u'16'], [u'16'], [u'12'], [u'12'], [u'16'], [u'16'], [u'16'], [u'16'], [u'16'], [u'16'], [u'12'], [u'12'], [u'12'], [u'12'], [u'16'], [u'16'], [u'12'], [u'12'], [u'12'], [u'16'], [u'12'], [u'12'], [u'12'], [u'16'], [u'12'], [u'12'], [u'12'], [u'12'], [u'16'], [u'16'], [u'12'], [u'16'], [u'12'], [u'16'], [u'16'], [u'12'], [u'12'], [u'12'], [u'12'], [u'12'], [u'12'], [u'12'], [u'12'], [u'12'], [u'16'], [u'12'], [u'12'], [u'12'], [u'12'], [u'16'], [u'12'], [u'16'], [u'12'], [u'12'], [u'12'], [u'12'], [u'12'], [u'16'], [u'12'], [u'12'], [u'12'], [u'12'], [u'12'], [u'12'], [u'19.2'], [u'16'], [u'12'], [u'12'], [u'12'], [u'12'], [u'12'], [u'12'], [u'12'], [u'12'], [u'12'], [u'12'], [u'12'], [u'12'], [u'12'], [u'12'], [u'12'], [u'16'], [u'12'], [u'12'], [u'12'], [u'16'], [u'16'], [u'12'], [u'16'], [u'12'], [u'12'], [u'12'], [u'12'], [u'12'], [u'16'], [u'12'], [u'16'], [u'16'], [u'12'], [u'16'], [u'16'], [u'12'], [u'16'], [u'16'], [u'12'], [u'24'], [u'16'], [u'16'], [u'12'], [u'12'], [u'16'], [u'16'], [u'16'], [u'16'], [u'16'], [u'12'], [u'12'], [u'12'], [u'12'], [u'12'], [u'12'], [u'12'], [u'16'], [u'16'], [u'16'], [u'12'], [u'12'], [u'12'], [u'12'], [u'12'], [u'12'], [u'12'], [u'12'], [u'12'], [u'12'], [u'12'], [u'16'], [u'12'], [u'12'], [u'12'], [u'12'], [u'12'], [u'12'], [u'12'], [u'12'], [u'12'], [u'16'], [u'12'], [u'12'], [u'12'], [u'12'], [u'16'], [u'16'], [u'16'], [u'16'], [u'12'], [u'12'], [u'12'], [u'16'], [u'12'], [u'12'], [u'16'], [u'16'], [u'12'], [u'12'], [u'12'], [u'12'], [u'12'], [u'12'], [u'12'], [u'12'], [u'16'], [u'16'], [u'12'], [u'16'], [u'12'], [u'12'], [u'12'], [u'12'], [u'12'], [u'16'], [u'12'], [u'12'], [u'12'], [u'12'], [u'16'], [u'12'], [u'12'], [u'12'], [u'12'], [u'16'], [u'16'], [u'16'], [u'12'], [u'16'], [u'12'], [u'16'], [u'16'], [u'16'], [u'12'], [u'16'], [u'12'], [u'12'], [u'12'], [u'16'], [u'12'], [u'12'], [u'12'], [u'16'], [u'19.2'], [u'19.2'], [u'12'], [u'12'], [u'12'], [u'16'], [u'12'], [u'12'], [u'12'], [u'12'], [u'12'], [u'12'], [u'12'], [u'12'], [u'12'], [u'12'], [u'12'], [u'12'], [u'16'], [u'12'], [u'12'], [u'12'], [u'12'], [u'12'], [u'12'], [u'12'], [u'12'], [u'12'], [u'12'], [u'12'], [u'16'], [u'16'], [u'16'], [u'16'], [u'12'], [u'12'], [u'12'], [u'16'], [u'16'], [u'16'], [u'16'], [u'12'], [u'12'], [u'12'], [u'12'], [u'16'], [u'12'], [u'16'], [u'16'], [u'16'], [u'12'], [u'12'], [u'16'], [u'12'], [u'16'], [u'16'], [u'16'], [u'12'], [u'12'], [u'12'], [u'12'], [u'12'], [u'12'], [u'12'], [u'12'], [u'12'], [u'12'], [u'12'], [u'12'], [u'12'], [u'12'], [u'12'], [u'12'], [u'12'], [u'12'], [u'12'], [u'16'], [u'12'], [u'12'], [u'12'], [u'12'], [u'16'], [u'12'], [u'16'], [u'16'], [u'12'], [u'12'], [u'12'], [u'12'], [u'16'], [u'12'], [u'12'], [u'12'], [u'12'], [u'12'], [u'12'], [u'16'], [u'16'], [u'12'], [u'16'], [u'16'], [u'12'], [u'12'], [u'12'], [u'16'], [u'16'], [u'16'], [u'12'], [u'12'], [u'12'], [u'12'], [u'12'], [u'12'], [u'16'], [u'16'], [u'12'], [u'12'], [u'12'], [u'12'], [u'16'], [u'12'], [u'12'], [u'12'], [u'12'], [u'16'], [u'12'], [u'16'], [u'8.4'], [u'12'], [u'16'], [u'16'], [u'16'], [u'12'], [u'12'], [u'16'], [u'16'], [u'16'], [u'12'], [u'12'], [u'12'], [u'16'], [u'12'], [u'12'], [u'12'], [u'12'], [u'16'], [u'12'], [u'12'], [u'16'], [u'12'], [u'12'], [u'12'], [u'12'], [u'16'], [u'12'], [u'12'], [u'16'], [u'12'], [u'12'], [u'12'], [u'12'], [u'12'], [u'12'], [u'16'], [u'12'], [u'12'], [u'16'], [u'12'], [u'19.2'], [u'16'], [u'16'], [u'12'], [u'12'], [u'12'], [u'16'], [u'16'], [u'16'], [u'12'], [u'12'], [u'12'], [u'12'], [u'12'], [u'12'], [u'12'], [u'12'], [u'12'], [u'12'], [u'12'], [u'16'], [u'12'], [u'16'], [u'16'], [u'16'], [u'12'], [u'12'], [u'12'], [u'16'], [u'12'], [u'12'], [u'12'], [u'12'], [u'12'], [u'12'], [u'12'], [u'12'], [u'19.2'], [u'12'], [u'16'], [u'12'], [u'16'], [u'16'], [u'16'], [u'16'], [u'12'], [u'12'], [u'16'], [u'12'], [u'12'], [u'12'], [u'16'], [u'12'], [u'16'], [u'12'], [u'12'], [u'16'], [u'16'], [u'16'], [u'16'], [u'16'], [u'12'], [u'16'], [u'12'], [u'12'], [u'12'], [u'12'], [u'12'], [u'16'], [u'16'], [u'12'], [u'12'], [u'12'], [u'12'], [u'16'], [u'16'], [u'16'], [u'12'], [u'12'], [u'12'], [u'16'], [u'16'], [u'12'], [u'16'], [u'12'], [u'16'], [u'16'], [u'16'], [u'16'], [u'12'], [u'16'], [u'16'], [u'16'], [u'12'], [u'16'], [u'12'], [u'16'], [u'12'], [u'16'], [u'12'], [u'12'], [u'12'], [u'12'], [u'16'], [u'16'], [u'12'], [u'12'], [u'12'], [u'12'], [u'16'], [u'12'], [u'12'], [u'16'], [u'16'], [u'12'], [u'12'], [u'12'], [u'12'], [u'12'], [u'12'], [u'16'], [u'16'], [u'16'], [u'16'], [u'12'], [u'12'], [u'16'], [u'12'], [u'12'], [u'16'], [u'12'], [u'12'], [u'12'], [u'12'], [u'12'], [u'16'], [u'16'], [u'16'], [u'12'], [u'12'], [u'12'], [u'16'], [u'12'], [u'12'], [u'12'], [u'12'], [u'16'], [u'16'], [u'12'], [u'12'], [u'12'], [u'12'], [u'12'], [u'12'], [u'16'], [u'12'], [u'16'], [u'12'], [u'12'], [u'12'], [u'12'], [u'12'], [u'12'], [u'12'], [u'12'], [u'12'], [u'12'], [u'16'], [u'12'], [u'12'], [u'12'], [u'12'], [u'12'], [u'12'], [u'12'], [u'12'], [u'12'], [u'12'], [u'12'], [u'12'], [u'12'], [u'12'], [u'12'], [u'12'], [u'12'], [u'12'], [u'16'], [u'12'], [u'16'], [u'12'], [u'12'], [u'12'], [u'12'], [u'12'], [u'12'], [u'12'], [u'12'], [u'12'], [u'16'], [u'12'], [u'16'], [u'16'], [u'16'], [u'16'], [u'16'], [u'16'], [u'12'], [u'12'], [u'12'], [u'12'], [u'12'], [u'12'], [u'16'], [u'16'], [u'12'], [u'16'], [u'16'], [u'12'], [u'12'], [u'12'], [u'12'], [u'12'], [u'12'], [u'16'], [u'12'], [u'12'], [u'12'], [u'12'], [u'12'], [u'12'], [u'16'], [u'16'], [u'12'], [u'12'], [u'12'], [u'16'], [u'16'], [u'16'], [u'16'], [u'16'], [u'16'], [u'16'], [u'16'], [u'12'], [u'12'], [u'12'], [u'12'], [u'16'], [u'16'], [u'16'], [u'12'], [u'16'], [u'12'], [u'12'], [u'12'], [u'16'], [u'12'], [u'16'], [u'16'], [u'16'], [u'16'], [u'16'], [u'12'], [u'12'], [u'12'], [u'12'], [u'12'], [u'12'], [u'12'], [u'12'], [u'12'], [u'12'], [u'12'], [u'16'], [u'16'], [u'16'], [u'16'], [u'16'], [u'16'], [u'16'], [u'16'], [u'16'], [u'16'], [u'16'], [u'12'], [u'12'], [u'12'], [u'12'], [u'16'], [u'24'], [u'12'], [u'16'], [u'16'], [u'16'], [u'16'], [u'12'], [u'12'], [u'16'], [u'16'], [u'16'], [u'12'], [u'16'], [u'12'], [u'16'], [u'12'], [u'16'], [u'12'], [u'16'], [u'16'], [u'12'], [u'12'], [u'16'], [u'12'], [u'16'], [u'12'], [u'12'], [u'16'], [u'16'], [u'12'], [u'12'], [u'16'], [u'16'], [u'12'], [u'16'], [u'16'], [u'12'], [u'24'], [u'24'], [u'12'], [u'12'], [u'12'], [u'12'], [u'12'], [u'16'], [u'12'], [u'12'], [u'12'], [u'12'], [u'12'], [u'12'], [u'12'], [u'12'], [u'16'], [u'16'], [u'16'], [u'16'], [u'16'], [u'12'], [u'12'], [u'12'], [u'16'], [u'12'], [u'12'], [u'12'], [u'12'], [u'12'], [u'12'], [u'12'], [u'16'], [u'12'], [u'12'], [u'12'], [u'16'], [u'12'], [u'16'], [u'12'], [u'12'], [u'12'], [u'12'], [u'12'], [u'12'], [u'12'], [u'12'], [u'12'], [u'12'], [u'12'], [u'12'], [u'16'], [u'16'], [u'16'], [u'16'], [u'12'], [u'12'], [u'12'], [u'16'], [u'12'], [u'12'], [u'16'], [u'12'], [u'16'], [u'16'], [u'12'], [u'12'], [u'12'], [u'16'], [u'16'], [u'12'], [u'12'], [u'16'], [u'16'], [u'16'], [u'16'], [u'12'], [u'12'], [u'16'], [u'12'], [u'12'], [u'12'], [u'12'], [u'12'], [u'16'], [u'16'], [u'16'], [u'12'], [u'16'], [u'12'], [u'12'], [u'12'], [u'16'], [u'12'], [u'12'], [u'12'], [u'12'], [u'16'], [u'12'], [u'16'], [u'16'], [u'12'], [u'12'], [u'12'], [u'16'], [u'12'], [u'12'], [u'12'], [u'12'], [u'16'], [u'16'], [u'12'], [u'12'], [u'16'], [u'12'], [u'12'], [u'12'], [u'16'], [u'12'], [u'16'], [u'16'], [u'12'], [u'12'], [u'12'], [u'12'], [u'12'], [u'12'], [u'12'], [u'12'], [u'12'], [u'12'], [u'12'], [u'12'], [u'12'], [u'12'], [u'12'], [u'12'], [u'12'], [u'16'], [u'12'], [u'12'], [u'16'], [u'16'], [u'16'], [u'16'], [u'16'], [u'12'], [u'12'], [u'16'], [u'16'], [u'16'], [u'16'], [u'16'], [u'12'], [u'12'], [u'12'], [u'12'], [u'12'], [u'12'], [u'12'], [u'12'], [u'12'], [u'16'], [u'16'], [u'16'], [u'16'], [u'16'], [u'12'], [u'12'], [u'12'], [u'12'], [u'12'], [u'12'], [u'12'], [u'12'], [u'12'], [u'12'], [u'16'], [u'16'], [u'12'], [u'12'], [u'12'], [u'24'], [u'16'], [u'12'], [u'12'], [u'12'], [u'12'], [u'12'], [u'16'], [u'16'], [u'12'], [u'12'], [u'12'], [u'12'], [u'16'], [u'12'], [u'16'], [u'12'], [u'16'], [u'16'], [u'16'], [u'16'], [u'12'], [u'16'], [u'16'], [u'12'], [u'12'], [u'12'], [u'12'], [u'16'], [u'12'], [u'16'], [u'12'], [u'12'], [u'12'], [u'12'], [u'12'], [u'12'], [u'12'], [u'12'], [u'12'], [u'16'], [u'16'], [u'16'], [u'12'], [u'12'], [u'16'], [u'16'], [u'12'], [u'12'], [u'12'], [u'12'], [u'12'], [u'12'], [u'12'], [u'24'], [u'24'], [u'12'], [u'12'], [u'16'], [u'12'], [u'12'], [u'12'], [u'16'], [u'16'], [u'12'], [u'12'], [u'16'], [u'16'], [u'12'], [u'16'], [u'16'], [u'16'], [u'12'], [u'12'], [u'12'], [u'12'], [u'12'], [u'12'], [u'12'], [u'12'], [u'12'], [u'12'], [u'16'], [u'12'], [u'12'], [u'12'], [u'12'], [u'12'], [u'16'], [u'12'], [u'12'], [u'12'], [u'12'], [u'16'], [u'16'], [u'12'], [u'12'], [u'12'], [u'12'], [u'12'], [u'12'], [u'12'], [u'12'], [u'12'], [u'12'], [u'12'], [u'12'], [u'16'], [u'16'], [u'16'], [u'16'], [u'12'], [u'12'], [u'12'], [u'12'], [u'12'], [u'12'], [u'12'], [u'12'], [u'16'], [u'12'], [u'16'], [u'16'], [u'12'], [u'12'], [u'12'], [u'12'], [u'12'], [u'12'], [u'12'], [u'12'], [u'16'], [u'12'], [u'12'], [u'12'], [u'12'], [u'12'], [u'12'], [u'12'], [u'12'], [u'12'], [u'12'], [u'12'], [u'12'], [u'12'], [u'12'], [u'12'], [u'16'], [u'12'], [u'12'], [u'12'], [u'12'], [u'12'], [u'16'], [u'16'], [u'16'], [u'16'], [u'16'], [u'12'], [u'12'], [u'12'], [u'12'], [u'12'], [u'12'], [u'12'], [u'12'], [u'12'], [u'16'], [u'16'], [u'16'], [u'12'], [u'12'], [u'16'], [u'12'], [u'12'], [u'12'], [u'12'], [u'12'], [u'12'], [u'12'], [u'12'], [u'12'], [u'12'], [u'12'], [u'12'], [u'12'], [u'12'], [u'12'], [u'16'], [u'12'], [u'12'], [u'12'], [u'12'], [u'12'], [u'12'], [u'12'], [u'12'], [u'12'], [u'12'], [u'16'], [u'16'], [u'12'], [u'12'], [u'12'], [u'12'], [u'12'], [u'16'], [u'16'], [u'12'], [u'16'], [u'12'], [u'16'], [u'16'], [u'12'], [u'12'], [u'12'], [u'12'], [u'12'], [u'12'], [u'12'], [u'12'], [u'12'], [u'12'], [u'12'], [u'12'], [u'16'], [u'16'], [u'16'], [u'16'], [u'16'], [u'12'], [u'12'], [u'12'], [u'12'], [u'12'], [u'16'], [u'16'], [u'16'], [u'16'], [u'16'], [u'16'], [u'16'], [u'16'], [u'12'], [u'12'], [u'12'], [u'12'], [u'12'], [u'12'], [u'12'], [u'12'], [u'12']]\n"
     ]
    }
   ],
   "source": [
    "print(correct_size)"
   ]
  },
  {
   "cell_type": "code",
   "execution_count": 29,
   "metadata": {
    "collapsed": false
   },
   "outputs": [],
   "source": [
    "for i in range(len(data['SIZE'])):\n",
    "    data['SIZE'][i] = re.sub('(^.*\\d)(\\s*.*$)',r'\\1', data['SIZE'][i])"
   ]
  },
  {
   "cell_type": "code",
   "execution_count": null,
   "metadata": {
    "collapsed": true
   },
   "outputs": [],
   "source": [
    "data['IBU'] = data['IBU'].fillna(data['IBUs'].mean())"
   ]
  }
 ],
 "metadata": {
  "kernelspec": {
   "display_name": "Python 2",
   "language": "python",
   "name": "python2"
  },
  "language_info": {
   "codemirror_mode": {
    "name": "ipython",
    "version": 2
   },
   "file_extension": ".py",
   "mimetype": "text/x-python",
   "name": "python",
   "nbconvert_exporter": "python",
   "pygments_lexer": "ipython2",
   "version": "2.7.13"
  }
 },
 "nbformat": 4,
 "nbformat_minor": 2
}
