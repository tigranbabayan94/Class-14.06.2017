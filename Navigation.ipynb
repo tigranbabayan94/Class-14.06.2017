{
 "cells": [
  {
   "cell_type": "code",
   "execution_count": 1,
   "metadata": {
    "collapsed": true
   },
   "outputs": [],
   "source": [
    "import requests\n",
    "from BeautifulSoup import *"
   ]
  },
  {
   "cell_type": "code",
   "execution_count": 2,
   "metadata": {
    "collapsed": true
   },
   "outputs": [],
   "source": [
    "url = \"https://hrantdavtyan.github.io/\""
   ]
  },
  {
   "cell_type": "code",
   "execution_count": 3,
   "metadata": {
    "collapsed": true
   },
   "outputs": [],
   "source": [
    "response = requests.get(url)\n",
    "page = response.text"
   ]
  },
  {
   "cell_type": "code",
   "execution_count": 4,
   "metadata": {
    "collapsed": true
   },
   "outputs": [],
   "source": [
    "soup = BeautifulSoup(page)"
   ]
  },
  {
   "cell_type": "code",
   "execution_count": 5,
   "metadata": {
    "collapsed": false
   },
   "outputs": [
    {
     "data": {
      "text/plain": [
       "<!DOCTYPE html PUBLIC \"-//W3C//DTD XHTML 1.1//EN\" \"http://www.w3.org/TR/xhtml11/DTD/xhtml11.dtd\">\n",
       "<html xmlns=\"http://www.w3.org/1999/xhtml\" xml:lang=\"en\">\n",
       "<head>\n",
       "<title>Hrant Davtyan</title>\n",
       "<meta http-equiv=\"content-type\" content=\"text/html; charset=utf-8\" />\n",
       "<meta http-equiv=\"X-UA-Compatible\" content=\"IE=edge,chrome=1\" />\n",
       "<meta name=\"viewport\" content=\"width=device-width, initial-scale=1, maximum-scale=1\" />\n",
       "<link rel=\"stylesheet\" type=\"text/css\" href=\"css/reset.css\" />\n",
       "<link rel=\"stylesheet\" type=\"text/css\" href=\"css/style.css\" />\n",
       "<link rel=\"stylesheet\" type=\"text/css\" href=\"css/fancybox.css\" />\n",
       "<link rel=\"stylesheet\" type=\"text/css\" href=\"http://fonts.googleapis.com/css?family=Open+Sans:400,600,300,800,700,400italic|PT+Serif:400,400italic\" />\n",
       "<script type=\"text/javascript\" src=\"js/jquery.min.js\"></script>\n",
       "<script type=\"text/javascript\" src=\"js/jquery.easytabs.min.js\"></script>\n",
       "<script type=\"text/javascript\" src=\"js/respond.min.js\"></script>\n",
       "<script type=\"text/javascript\" src=\"js/jquery.easytabs.min.js\"></script>\n",
       "<script type=\"text/javascript\" src=\"js/jquery.adipoli.min.js\"></script>\n",
       "<script type=\"text/javascript\" src=\"js/jquery.fancybox-1.3.4.pack.js\"></script>\n",
       "<script type=\"text/javascript\" src=\"js/jquery.isotope.min.js\"></script>\n",
       "<script type=\"text/javascript\" src=\"http://maps.google.com/maps/api/js?sensor=false\"></script>\n",
       "<script type=\"text/javascript\" src=\"js/jquery.gmap.min.js\"></script>\n",
       "<script type=\"text/javascript\" src=\"js/custom.js\"></script>\n",
       "</head>\n",
       "<body>\n",
       "<!-- Container -->\n",
       "<div id=\"container\">\n",
       "<!-- Top -->\n",
       "<div class=\"top\">\n",
       "<!-- Logo -->\n",
       "<div id=\"logo\">\n",
       "<h2>HRANT DAVTYAN</h2>\n",
       "<h4>BUSINESS ANALYST &amp; DATA SCIENTIST</h4>\n",
       "</div>\n",
       "<!-- /Logo -->\n",
       "<!-- Social Icons -->\n",
       "<ul class=\"socialicons\">\n",
       "<li><a href=\"#\" class=\"social-text\">SOCIAL PROFILES</a></li>\n",
       "<li><a href=\"https://www.facebook.com/HrantDavtyan\" class=\"social-facebook\"></a></li>\n",
       "<li><a href=\"https://www.linkedin.com/in/hrantdavtyan\" class=\"social-in\"></a></li>\n",
       "</ul>\n",
       "<!-- /Social Icons -->\n",
       "</div>\n",
       "<!-- /Top -->\n",
       "<!-- Content -->\n",
       "<div id=\"content\">\n",
       "<!-- Profile -->\n",
       "<div id=\"profile\">\n",
       "<!-- About section -->\n",
       "<div class=\"about\">\n",
       "<div class=\"photo-inner\"><img src=\"images/photo.jpg\" height=\"186\" width=\"153\" /></div>\n",
       "<h1>HRANT DAVTYAN</h1>\n",
       "<h3>Business Analyst &amp; Data Scientist</h3>\n",
       "<p>I am a Data Enthusiast, teaching Business Analytics and providing consultancy on Statistics, Economics and IT. Feel free to take a look around my webpage.</p>\n",
       "</div>\n",
       "<!-- /About section -->\n",
       "<!-- Personal info section -->\n",
       "<ul class=\"personal-info\">\n",
       "<li><label>Name</label><span>Hrant Davtyan</span></li>\n",
       "<li><label>Date of birth</label><span>June 16, 1992</span></li>\n",
       "<li><label>Address</label><span>Yerevan 0033, Armenia</span></li>\n",
       "<li><label>Email</label><span>hdavtyan@aua.am</span></li>\n",
       "<li><label>Phone</label><span>+374 99 02-06-62</span></li>\n",
       "<li><label>Website</label><span>HrantDavtyan.GitHub.io</span></li>\n",
       "</ul>\n",
       "<!-- /Personal info section -->\n",
       "</div>\n",
       "<!-- /Profile -->\n",
       "<!-- Menu -->\n",
       "<div class=\"menu\">\n",
       "<ul class=\"tabs\">\n",
       "<li><a href=\"#profile\" class=\"tab-profile\">Profile</a></li>\n",
       "<li><a href=\"#resume\" class=\"tab-resume\">Resume</a></li>\n",
       "<li><a href=\"#portfolio\" class=\"tab-portfolio\">Portfolio</a></li>\n",
       "<li><a href=\"#contact\" class=\"tab-contact\">Contact</a></li>\n",
       "</ul>\n",
       "</div>\n",
       "<!-- /Menu -->\n",
       "<!-- Resume -->\n",
       "<div id=\"resume\">\n",
       "<div class=\"timeline-section\">\n",
       "<!-- Timeline for Teaching Experience  -->\n",
       "<h3 class=\"main-heading\"><span>Teaching Experience</span></h3>\n",
       "<ul class=\"timeline\">\n",
       "<li>\n",
       "<div class=\"timelineUnit\">\n",
       "<h4>Adjunct Lecturer<span class=\"timelineDate\">2016 - Present</span></h4>\n",
       "<h5><a href=\"http://aua.am/\">American University of Armenia (AUA)</a></h5>\n",
       "<p align=\"justify\">I achieved an average feedback score of 4.7 (out of 5) teaching Business Analytics,\n",
       "\t\t\t\t\t\t\t\t\tBusiness Mathematics and Macroeconomics courses to overall 111 students.</p>\n",
       "</div>\n",
       "</li>\n",
       "<li>\n",
       "<div class=\"timelineUnit\">\n",
       "<h4>Instructor of Predictive Modelling<span class=\"timelineDate\">2015 - 2016</span></h4>\n",
       "<h5><a href=\"http://isifa.am/en/ifa-dfi/\">French-German University</a></h5>\n",
       "<p align=\"justify\">Students with no prior knowledge of programming successfully learned Python, R, Stata and IBM SPSS\n",
       "\t\t\t\t\t\t\t\t\tand applied their skills by participating to a Kaggle competition as a final course project</p>\n",
       "</div>\n",
       "</li>\n",
       "<li>\n",
       "<div class=\"timelineUnit\">\n",
       "<h4>Teaching Fellow<span class=\"timelineDate\">2014 - 2015</span></h4>\n",
       "<h5><a href=\"https://www.cerge-ei.cz/\">Cerge-EI</a></h5>\n",
       "<p align=\"justify\">I was awarded a one year fellowship to teach modern economics at local universities.\n",
       "\t\t\t\t\t\t\t\t\tDuring the fellowship tenure I taught around 230 students at 3 different universities.</p>\n",
       "</div>\n",
       "</li>\n",
       "<div class=\"clear\"></div>\n",
       "</ul>\n",
       "<!-- /Timeline for Teaching Experience  -->\n",
       "<!-- Timeline for Professional Experience  -->\n",
       "<h3 class=\"main-heading\"><span>Professional Experience</span></h3>\n",
       "<ul class=\"timeline\">\n",
       "<li>\n",
       "<div class=\"timelineUnit\">\n",
       "<h4>Expert on Statistics, Economics and IT<span class=\"timelineDate\">2015 - Present</span></h4>\n",
       "<h5><a href=\"http://www.fao.org/armenia/en/\">United Nations Food and Agriculture Organization (UN FAO)</a></h5>\n",
       "<p align=\"justify\">Developed a software (using R, HTML, CSS) for Post Disaster Needs Assessment.\n",
       "\t\t\t\t\t\t\t\t\tConsulted contracted companies regarding Ministry staff appraisal and training needs assessment.\n",
       "\t\t\t\t\t\t\t\t\tConsulted National Statistical Service regarding Census (and post census) activities</p>\n",
       "</div>\n",
       "</li>\n",
       "<li>\n",
       "<div class=\"timelineUnit\">\n",
       "<h4>Senior Business Analyst<span class=\"timelineDate\">2015 - Present</span></h4>\n",
       "<h5><a href=\"http://www.metric.am/\">METRIC</a></h5>\n",
       "<p align=\"justify\">Led several major Data Science projects, participated in different quantitative and qualitative surveys\n",
       "\t\t\t\t\t\t\t\t\tprovided consulting to local and international, private and public organizations.</p>\n",
       "</div>\n",
       "</li>\n",
       "<li>\n",
       "<div class=\"timelineUnit\">\n",
       "<h4>Business Analyst<span class=\"timelineDate\">2014 - 2015</span></h4>\n",
       "<h5><a href=\"http://ahpc.am/?lang=en\">Armenian Harvest Promotion Center</a></h5>\n",
       "<p align=\"justify\">Developed business proposals applying financial and operations analytics techniques. The main tool used were spreadsheets and Microsoft Power tools</p>\n",
       "</div>\n",
       "</li>\n",
       "<div class=\"clear\"></div>\n",
       "</ul>\n",
       "<!-- /Timeline for Professional Experience  -->\n",
       "<!-- Timeline for Education  -->\n",
       "<h3 class=\"main-heading\"><span>Education</span></h3>\n",
       "<ul class=\"timeline\">\n",
       "<li>\n",
       "<div class=\"timelineUnit\">\n",
       "<h4>MSc in Economic Policy<span class=\"timelineDate\">2012 - 2013</span></h4>\n",
       "<h5><a href=\"http://www.ucl.ac.uk/\">University College London (UCL)</a></h5>\n",
       "<p>Thesis: Vulnerability to manipulation for positional voting rules</p>\n",
       "</div>\n",
       "</li>\n",
       "<li>\n",
       "<div class=\"timelineUnit\">\n",
       "<h4>MA in Economics<span class=\"timelineDate\">2012 - 2014</span></h4>\n",
       "<h5><a href=\"http://iset.tsu.ge/\">International School of Economics (ISET)</a></h5>\n",
       "<p>Thesis: The effect of correlation neglect on polarization</p>\n",
       "</div>\n",
       "</li>\n",
       "<div class=\"clear\"></div>\n",
       "</ul>\n",
       "<!-- /Timeline for Education  -->\n",
       "</div>\n",
       "<div class=\"skills-section\">\n",
       "<!-- Skills -->\n",
       "<h3 class=\"main-heading\"><span>Analytics</span></h3>\n",
       "<ul class=\"skills\">\n",
       "<li>\n",
       "<h4>Customers</h4>\n",
       "<span class=\"rat6\"></span>\n",
       "</li>\n",
       "<li>\n",
       "<h4>HR/People</h4>\n",
       "<span class=\"rat4\"></span>\n",
       "</li>\n",
       "<li>\n",
       "<h4>Operations</h4>\n",
       "<span class=\"rat5\"></span>\n",
       "</li>\n",
       "<li>\n",
       "<h4>FInance</h4>\n",
       "<span class=\"rat4\"></span>\n",
       "</li>\n",
       "</ul>\n",
       "<h3 class=\"main-heading\"><span>Programming</span></h3>\n",
       "<ul class=\"skills\">\n",
       "<li>\n",
       "<h4>Python</h4>\n",
       "<span class=\"rat6\"></span>\n",
       "</li>\n",
       "<li>\n",
       "<h4>HTML/CSS</h4>\n",
       "<span class=\"rat3\"></span>\n",
       "</li>\n",
       "<li>\n",
       "<h4>R</h4>\n",
       "<span class=\"rat6\"></span>\n",
       "</li>\n",
       "<li>\n",
       "<h4>SQL/T-SQL</h4>\n",
       "<span class=\"rat3\"></span>\n",
       "</li>\n",
       "<li>\n",
       "<h4>Markdown</h4>\n",
       "<span class=\"rat7\"></span>\n",
       "</li>\n",
       "</ul>\n",
       "<h3 class=\"main-heading\"><span>Languages</span></h3>\n",
       "<ul class=\"skills\">\n",
       "<li>\n",
       "<h4>English</h4>\n",
       "<span class=\"rat7\"></span>\n",
       "</li>\n",
       "<li>\n",
       "<h4>Russian</h4>\n",
       "<span class=\"rat7\"></span>\n",
       "</li>\n",
       "<li>\n",
       "<h4>Polish</h4>\n",
       "<span class=\"rat4\"></span>\n",
       "</li>\n",
       "</ul>\n",
       "<h3 class=\"main-heading\"><span>Software</span></h3>\n",
       "<ul class=\"skills\">\n",
       "<li>\n",
       "<h4>MS Excel/Access</h4>\n",
       "<span class=\"rat7\"></span>\n",
       "</li>\n",
       "<li>\n",
       "<h4>STATA/SPSS</h4>\n",
       "<span class=\"rat7\"></span>\n",
       "</li>\n",
       "<li>\n",
       "<h4>KNIME/Rapidminer</h4>\n",
       "<span class=\"rat4\"></span>\n",
       "</li>\n",
       "</ul>\n",
       "<!-- /Skills -->\n",
       "</div>\n",
       "</div>\n",
       "<!-- /Resume -->\n",
       "<!-- Portfolio -->\n",
       "<div id=\"portfolio\">\n",
       "<ul id=\"portfolio-filter\">\n",
       "<li><a href=\"\" class=\"current\" data-filter=\"*\">All</a></li>\n",
       "<li><a href=\"\" data-filter=\".statistics\">Statistics</a></li>\n",
       "<li><a href=\"\" data-filter=\".programming\">Programming</a></li>\n",
       "<li><a href=\"\" data-filter=\".teaching\">Teaching</a></li>\n",
       "<li><a href=\"\" data-filter=\".survey\">Survey</a></li>\n",
       "<li><a href=\"\" data-filter=\".other\">Other</a></li>\n",
       "</ul>\n",
       "<div class=\"extra-text\">Some of the projects I'm proud with</div>\n",
       "<ul id=\"portfolio-list\">\n",
       "<li class=\"teaching\">\n",
       "<a href=\"https://github.com/HrantDavtyan/HrantDavtyan.github.io\\teaching\\jdocs\\Business Analytics\\html\\index.html\" rel=\"portfolio\" target=\"_new\">\n",
       "<img src=\"portfolio/ba.png\" alt=\"\" />\n",
       "<h2 class=\"title\">Business Analytics</h2>\n",
       "<span class=\"categorie\">Teaching</span>\n",
       "</a>\n",
       "</li>\n",
       "<li class=\"statistics programming\">\n",
       "<a href=\"http://clearwaterbeachassoc.com/wp-content/uploads/2016/01/Under-construction.png\" title=\"Damage and Loss calculator\" rel=\"portfolio\" class=\"folio\">\n",
       "<img src=\"portfolio/r.png\" alt=\"\" />\n",
       "<h2 class=\"title\">PDNA web application</h2>\n",
       "<span class=\"categorie\">Programming / Statistics</span>\n",
       "</a>\n",
       "</li>\n",
       "<li class=\"statistics\">\n",
       "<a href=\"http://www.armstat.am/en/?nid=661\" rel=\"portfolio\" class=\"folio iframe\">\n",
       "<img src=\"portfolio/census.jpg\" alt=\"\" />\n",
       "<h2 class=\"title\">General Agriculture Census</h2>\n",
       "<span class=\"categorie\">Statistics</span>\n",
       "</a>\n",
       "</li>\n",
       "<li class=\"other survey\">\n",
       "<a href=\"http://clearwaterbeachassoc.com/wp-content/uploads/2016/01/Under-construction.png\" rel=\"portfolio\" class=\"folio\">\n",
       "<img src=\"http://clearwaterbeachassoc.com/wp-content/uploads/2016/01/Under-construction.png\" alt=\"\" />\n",
       "<h2 class=\"title\">Data Science in Armenia</h2>\n",
       "<span class=\"categorie\">Survey / Other</span>\n",
       "</a>\n",
       "</li>\n",
       "<li class=\"other\">\n",
       "<a href=\"http://clearwaterbeachassoc.com/wp-content/uploads/2016/01/Under-construction.png\" rel=\"portfolio\" class=\"folio\">\n",
       "<img src=\"http://clearwaterbeachassoc.com/wp-content/uploads/2016/01/Under-construction.png\" alt=\"\" />\n",
       "<h2 class=\"title\">MCMC</h2>\n",
       "<span class=\"categorie\">Other</span>\n",
       "</a>\n",
       "</li>\n",
       "<li class=\"statistics survey\">\n",
       "<a href=\"http://clearwaterbeachassoc.com/wp-content/uploads/2016/01/Under-construction.png\" rel=\"portfolio\" class=\"folio\">\n",
       "<img src=\"http://clearwaterbeachassoc.com/wp-content/uploads/2016/01/Under-construction.png\" alt=\"\" />\n",
       "<h2 class=\"title\">Staff apprasial analysis</h2>\n",
       "<span class=\"categorie\">Statistics / Survey</span>\n",
       "</a>\n",
       "</li>\n",
       "<li class=\"programming\">\n",
       "<a href=\"http://clearwaterbeachassoc.com/wp-content/uploads/2016/01/Under-construction.png\" rel=\"portfolio\" class=\"folio\">\n",
       "<img src=\"http://clearwaterbeachassoc.com/wp-content/uploads/2016/01/Under-construction.png\" alt=\"\" />\n",
       "<h2 class=\"title\">Twitter bot</h2>\n",
       "<span class=\"categorie\">Programming</span>\n",
       "</a>\n",
       "</li>\n",
       "<li class=\"teaching\">\n",
       "<a href=\"http://clearwaterbeachassoc.com/wp-content/uploads/2016/01/Under-construction.png\" rel=\"portfolio\" class=\"folio\">\n",
       "<img src=\"http://clearwaterbeachassoc.com/wp-content/uploads/2016/01/Under-construction.png\" alt=\"\" />\n",
       "<h2 class=\"title\">Macroeconomics</h2>\n",
       "<span class=\"categorie\">Teaching</span>\n",
       "</a>\n",
       "</li>\n",
       "</ul>\n",
       "</div>\n",
       "<!-- /Portfolio -->\n",
       "<!-- Contact -->\n",
       "<div id=\"contact\">\n",
       "<div id=\"map\"></div>\n",
       "<!-- Contact Info -->\n",
       "<div class=\"contact-info\">\n",
       "<h3 class=\"main-heading\"><span>Contact info</span></h3>\n",
       "<ul>\n",
       "<li>223W AUA, 40 Baghramyan Ave, Yerevan 0033 Armenia<br /><br /></li>\n",
       "<li>Email: hdavtyan@aua.am</li>\n",
       "<li>Phone: +374 99 02-06-62</li>\n",
       "<li>Website: HrantDavtyan.GitHub.io</li>\n",
       "</ul>\n",
       "</div>\n",
       "<!-- /Contact Info -->\n",
       "<!-- Contact Form -->\n",
       "<div class=\"contact-form\">\n",
       "<h3 class=\"main-heading\"><span>Let's keep in touch</span></h3>\n",
       "<div id=\"contact-status\"></div>\n",
       "<form action=\"\" id=\"contactform\">\n",
       "<p>\n",
       "<label for=\"name\">Your Name</label>\n",
       "<input type=\"text\" name=\"name\" class=\"input\" />\n",
       "</p>\n",
       "<p>\n",
       "<label for=\"email\">Your Email</label>\n",
       "<input type=\"text\" name=\"email\" class=\"input\" />\n",
       "</p>\n",
       "<p>\n",
       "<label for=\"message\">Your Message</label>\n",
       "<textarea name=\"message\" cols=\"88\" rows=\"6\" class=\"textarea\"></textarea>\n",
       "</p>\n",
       "<input type=\"submit\" name=\"submit\" value=\"Send your message\" class=\"submit\" />\n",
       "</form>\n",
       "</div>\n",
       "<!-- /Contact Form -->\n",
       "</div>\n",
       "<!-- /contact -->\n",
       "</div>\n",
       "<!-- /Content -->\n",
       "<!-- Footer -->\n",
       "<div class=\"footer\">\n",
       "<div class=\"copyright\">Copyright © 2017 Hrant Davtyan</div>\n",
       "</div>\n",
       "<!-- /Footer -->\n",
       "</div>\n",
       "<!-- /Container -->\n",
       "</body>\n",
       "</html>"
      ]
     },
     "execution_count": 5,
     "metadata": {},
     "output_type": "execute_result"
    }
   ],
   "source": [
    "soup"
   ]
  },
  {
   "cell_type": "code",
   "execution_count": 7,
   "metadata": {
    "collapsed": false
   },
   "outputs": [],
   "source": [
    "label_tags = soup.findAll(\"label\")"
   ]
  },
  {
   "cell_type": "code",
   "execution_count": 8,
   "metadata": {
    "collapsed": false
   },
   "outputs": [
    {
     "name": "stdout",
     "output_type": "stream",
     "text": [
      "[<label>Name</label>, <label>Date of birth</label>, <label>Address</label>, <label>Email</label>, <label>Phone</label>, <label>Website</label>, <label for=\"name\">Your Name</label>, <label for=\"email\">Your Email</label>, <label for=\"message\">Your Message</label>]\n"
     ]
    }
   ],
   "source": [
    "print label_tags"
   ]
  },
  {
   "cell_type": "code",
   "execution_count": 9,
   "metadata": {
    "collapsed": true
   },
   "outputs": [],
   "source": [
    "email_label_tag = label_tags[3]"
   ]
  },
  {
   "cell_type": "code",
   "execution_count": 10,
   "metadata": {
    "collapsed": false
   },
   "outputs": [
    {
     "data": {
      "text/plain": [
       "<label>Email</label>"
      ]
     },
     "execution_count": 10,
     "metadata": {},
     "output_type": "execute_result"
    }
   ],
   "source": [
    "email_label_tag"
   ]
  },
  {
   "cell_type": "code",
   "execution_count": 11,
   "metadata": {
    "collapsed": false
   },
   "outputs": [
    {
     "data": {
      "text/plain": [
       "u'Email'"
      ]
     },
     "execution_count": 11,
     "metadata": {},
     "output_type": "execute_result"
    }
   ],
   "source": [
    "email_label_tag.text"
   ]
  },
  {
   "cell_type": "code",
   "execution_count": 13,
   "metadata": {
    "collapsed": false
   },
   "outputs": [
    {
     "data": {
      "text/plain": [
       "u'Email'"
      ]
     },
     "execution_count": 13,
     "metadata": {},
     "output_type": "execute_result"
    }
   ],
   "source": [
    "email_label_tag.string"
   ]
  },
  {
   "cell_type": "code",
   "execution_count": 12,
   "metadata": {
    "collapsed": false
   },
   "outputs": [
    {
     "data": {
      "text/plain": [
       "unicode"
      ]
     },
     "execution_count": 12,
     "metadata": {},
     "output_type": "execute_result"
    }
   ],
   "source": [
    "type(email_label_tag.text)"
   ]
  },
  {
   "cell_type": "code",
   "execution_count": 14,
   "metadata": {
    "collapsed": false
   },
   "outputs": [
    {
     "data": {
      "text/plain": [
       "BeautifulSoup.NavigableString"
      ]
     },
     "execution_count": 14,
     "metadata": {},
     "output_type": "execute_result"
    }
   ],
   "source": [
    "type(email_label_tag.string)"
   ]
  },
  {
   "cell_type": "code",
   "execution_count": 18,
   "metadata": {
    "collapsed": false
   },
   "outputs": [],
   "source": [
    "email_tag = email_label_tag.findNextSibling()"
   ]
  },
  {
   "cell_type": "code",
   "execution_count": 21,
   "metadata": {
    "collapsed": false
   },
   "outputs": [
    {
     "data": {
      "text/plain": [
       "u'hdavtyan@aua.am'"
      ]
     },
     "execution_count": 21,
     "metadata": {},
     "output_type": "execute_result"
    }
   ],
   "source": [
    "email_tag.string"
   ]
  },
  {
   "cell_type": "code",
   "execution_count": 23,
   "metadata": {
    "collapsed": false
   },
   "outputs": [
    {
     "data": {
      "text/plain": [
       "u'Emailhdavtyan@aua.am'"
      ]
     },
     "execution_count": 23,
     "metadata": {},
     "output_type": "execute_result"
    }
   ],
   "source": [
    "email_label_tag.findParent().text"
   ]
  },
  {
   "cell_type": "code",
   "execution_count": 24,
   "metadata": {
    "collapsed": true
   },
   "outputs": [],
   "source": [
    "child = email_label_tag.findChild()"
   ]
  },
  {
   "cell_type": "code",
   "execution_count": 26,
   "metadata": {
    "collapsed": false
   },
   "outputs": [
    {
     "name": "stdout",
     "output_type": "stream",
     "text": [
      "None\n"
     ]
    }
   ],
   "source": [
    "print child"
   ]
  },
  {
   "cell_type": "code",
   "execution_count": null,
   "metadata": {
    "collapsed": true
   },
   "outputs": [],
   "source": []
  }
 ],
 "metadata": {
  "kernelspec": {
   "display_name": "Python 2",
   "language": "python",
   "name": "python2"
  },
  "language_info": {
   "codemirror_mode": {
    "name": "ipython",
    "version": 2
   },
   "file_extension": ".py",
   "mimetype": "text/x-python",
   "name": "python",
   "nbconvert_exporter": "python",
   "pygments_lexer": "ipython2",
   "version": "2.7.13"
  }
 },
 "nbformat": 4,
 "nbformat_minor": 2
}
